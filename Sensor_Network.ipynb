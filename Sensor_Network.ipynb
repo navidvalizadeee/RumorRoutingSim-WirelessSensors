{
  "cells": [
    {
      "cell_type": "code",
      "execution_count": null,
      "metadata": {
        "colab": {
          "base_uri": "https://localhost:8080/"
        },
        "id": "YvV6WmWrACnN",
        "outputId": "fc7bd587-40a1-45ca-b5b4-bf0885a6b877"
      },
      "outputs": [
        {
          "name": "stdout",
          "output_type": "stream",
          "text": [
            "Drive already mounted at /content/drive; to attempt to forcibly remount, call drive.mount(\"/content/drive\", force_remount=True).\n"
          ]
        }
      ],
      "source": [
        "from google.colab import drive\n",
        "drive.mount('/content/drive')"
      ]
    },
    {
      "cell_type": "code",
      "execution_count": null,
      "metadata": {
        "id": "HFmHBywVBZqH"
      },
      "outputs": [],
      "source": [
        "import random\n",
        "import networkx as nx\n",
        "import matplotlib.pyplot as plt\n",
        "import matplotlib.animation as animation\n",
        "\n",
        "class RumorRouting:\n",
        "    def __init__(self, graph):\n",
        "        self.graph = graph\n",
        "        self.time_spent = 0\n",
        "        self.energy_spent = 0\n",
        "\n",
        "    def simulate(self, start_node):\n",
        "        self.time_spent = 0\n",
        "        self.energy_spent = 0\n",
        "\n",
        "        # Initialize all nodes as uninfected\n",
        "        infected_nodes = set()\n",
        "        for node in self.graph.nodes():\n",
        "            self.graph.nodes[node]['infected'] = False\n",
        "\n",
        "        # Select the start node to be infected\n",
        "        infected_nodes.add(start_node)\n",
        "        self.graph.nodes[start_node]['infected'] = True\n",
        "\n",
        "        # Iterate until all nodes are infected\n",
        "        while len(infected_nodes) < len(self.graph):\n",
        "            # Select a random infected node\n",
        "            sender = random.choice(list(infected_nodes))\n",
        "\n",
        "            # Select a random neighbor to forward the rumor to\n",
        "            neighbor = random.choice(list(self.graph.neighbors(sender)))\n",
        "\n",
        "            # If the neighbor is uninfected, infect it and add it to the set of infected nodes\n",
        "            if not self.graph.nodes[neighbor]['infected']:\n",
        "                self.graph.nodes[neighbor]['infected'] = True\n",
        "                infected_nodes.add(neighbor)\n",
        "\n",
        "\n",
        "            # Increment the time spent\n",
        "            self.time_spent += 1\n",
        "            self.energy_spent += 1\n",
        "            # Plot the current state of the graph\n",
        "            self.plot_step(sender, neighbor, self.time_spent)\n",
        "\n",
        "        # Return the time and energy spent\n",
        "        return {'time_spent': self.time_spent, 'energy_spent': self.energy_spent}\n",
        "\n",
        "    def plot_step(self, sender, receiver,temp):\n",
        "        # Draw the graph\n",
        "        pos = nx.spring_layout(self.graph, seed=42)\n",
        "        nx.draw(self.graph, pos, with_labels=True)\n",
        "\n",
        "        # Label the infected nodes in red\n",
        "        infected_nodes = [node for node, attr in self.graph.nodes(data='infected') if attr == True]\n",
        "        nx.draw_networkx_nodes(self.graph, pos, nodelist=infected_nodes, node_color='r')\n",
        "\n",
        "        # Label the sender and receiver nodes in green and yellow, respectively\n",
        "        nx.draw_networkx_nodes(self.graph, pos, nodelist=[sender], node_color='g')\n",
        "        nx.draw_networkx_nodes(self.graph, pos, nodelist=[receiver], node_color='y')\n",
        "\n",
        "        # Add a label for the time spent and energy spent\n",
        "        plt.rcParams['figure.figsize'] = [15,15 ]\n",
        "        # plt.text(-1, -1, f\"Time spent: {self.time_spent}\\nEnergy Spent: {self.energy_spent}\\nInfected Nodes:{infected_nodes}\\n\", fontsize=20)\n",
        "\n",
        "        # Show the plot\n",
        "        # plt.savefig(f'/content/drive/MyDrive/Colab_Notebooks/Images_Net/First{temp}.png')\n",
        "        # plt.show()\n",
        "\n"
      ]
    },
    {
      "cell_type": "code",
      "execution_count": null,
      "metadata": {
        "colab": {
          "background_save": true,
          "base_uri": "https://localhost:8080/"
        },
        "id": "cyNuQHyn4XQF",
        "outputId": "57732741-b0a0-42c4-a10b-70b824765769"
      },
      "outputs": [
        {
          "name": "stdout",
          "output_type": "stream",
          "text": [
            "Time spent: 183\n",
            "Energy spent: 183\n",
            "Time spent: 249\n",
            "Energy spent: 249\n",
            "Time spent: 267\n",
            "Energy spent: 267\n",
            "Time spent: 104\n",
            "Energy spent: 104\n",
            "Time spent: 256\n",
            "Energy spent: 256\n",
            "Time spent: 295\n",
            "Energy spent: 295\n",
            "Time spent: 278\n",
            "Energy spent: 278\n",
            "Time spent: 347\n",
            "Energy spent: 347\n",
            "Time spent: 330\n",
            "Energy spent: 330\n",
            "Time spent: 310\n",
            "Energy spent: 310\n"
          ]
        },
        {
          "data": {
            "image/png": "[encoded data removed]",
            "text/plain": [
              "<Figure size 432x288 with 1 Axes>"
            ]
          },
          "metadata": {},
          "output_type": "display_data"
        }
      ],
      "source": [
        "res_time1 = [0]*10\n",
        "res_en1 = [0]*10\n",
        "for i in range(10):\n",
        "# Create a random graph with 10 nodes and 20 edges\n",
        "  graph = nx.connected_caveman_graph(5, 5)\n",
        "\n",
        "  # Create a RumorRouting object\n",
        "  rumor_routing = RumorRouting(graph)\n",
        "\n",
        "  # Simulate the rumor routing protocol starting from node 0\n",
        "  rumor_results = rumor_routing.simulate(0)\n",
        "\n",
        "  # Print the time and energy spent\n",
        "  print(f\"Time spent: {rumor_results['time_spent']}\")\n",
        "  print(f\"Energy spent: {rumor_results['energy_spent']}\")\n",
        "  res_time1[i]={rumor_results['time_spent']}\n",
        "  res_en1[i]={rumor_results['energy_spent']}\n"
      ]
    },
    {
      "cell_type": "code",
      "execution_count": null,
      "metadata": {
        "id": "dmpWYdPj4dOV"
      },
      "outputs": [],
      "source": [
        "import random\n",
        "import networkx as nx\n",
        "import matplotlib.pyplot as plt\n",
        "import numpy as np\n",
        "\n",
        "\n",
        "class EpidemicRouting:\n",
        "    def __init__(self, graph, max_hops=10):\n",
        "        self.graph = graph\n",
        "        self.time_spent = 0\n",
        "        self.energy_spent = 0\n",
        "        self.max_hops = max_hops\n",
        "\n",
        "    def simulate(self, start_node):\n",
        "        self.time_spent = 0\n",
        "        self.energy_spent = 0\n",
        "\n",
        "        # Initialize all nodes as uninfected\n",
        "        infected_nodes = set()\n",
        "        for node in self.graph.nodes():\n",
        "            self.graph.nodes[node]['infected'] = False\n",
        "\n",
        "        # Select the start node to be infected\n",
        "        infected_nodes.add(start_node)\n",
        "        self.graph.nodes[start_node]['infected'] = True\n",
        "\n",
        "        # Iterate until all nodes are infected\n",
        "        while len(infected_nodes) < len(self.graph):\n",
        "            # Select a random infected node\n",
        "            sender = random.choice(list(infected_nodes))\n",
        "\n",
        "            # Select a random neighbor to forward the message to\n",
        "            neighbor = random.choice(list(self.graph.neighbors(sender)))\n",
        "            # If the neighbor is uninfected, infect it and add it to the set of infected nodes\n",
        "            if not self.graph.nodes[neighbor]['infected']:\n",
        "                self.graph.nodes[neighbor]['infected'] = True\n",
        "                infected_nodes.add(neighbor)\n",
        "\n",
        "\n",
        "            # Increment the time spent\n",
        "            self.time_spent += 1\n",
        "            self.energy_spent += neighbor\n",
        "            # Forward the message to other nodes within max_hops\n",
        "            hops = 0\n",
        "            while hops < self.max_hops:\n",
        "                # Select a random neighbor to forward the message to\n",
        "                neighbor = random.choice(list(self.graph.neighbors(sender)))\n",
        "\n",
        "                # If the neighbor is uninfected, infect it and add it to the set of infected nodes\n",
        "                if not self.graph.nodes[neighbor]['infected']:\n",
        "                    self.graph.nodes[neighbor]['infected'] = True\n",
        "                    infected_nodes.add(neighbor)\n",
        "                    # self.energy_spent += 1\n",
        "\n",
        "                # Increment the time spent and hops\n",
        "                self.time_spent += 1\n",
        "                hops += 1\n",
        "\n",
        "            # Plot the current state of the graph\n",
        "            self.plot_step(sender, neighbor,self.time_spent)\n",
        "\n",
        "        # Return the time and energy spent\n",
        "        return {'time_spent': self.time_spent, 'energy_spent': self.energy_spent}\n",
        "\n",
        "    def plot_step(self, sender, receiver,temp):\n",
        "        # Draw the graph\n",
        "        pos = nx.spring_layout(self.graph, seed=42)\n",
        "        nx.draw(self.graph, pos, with_labels=True)\n",
        "\n",
        "        # Label the infected nodes in red\n",
        "        infected_nodes = [node for node, attr in self.graph.nodes(data='infected') if attr == True]\n",
        "        nx.draw_networkx_nodes(self.graph, pos, nodelist=infected_nodes, node_color='r')\n",
        "\n",
        "        # Label the sender and receiver nodes in green and yellow, respectively\n",
        "        nx.draw_networkx_nodes(self.graph, pos, nodelist=[sender], node_color='g')\n",
        "        nx.draw_networkx_nodes(self.graph, pos, nodelist=[receiver], node_color='y')\n",
        "\n",
        "        # Add a label for the time spent and energy spent\n",
        "        plt.rcParams['figure.figsize'] = [15,15 ]\n",
        "        plt.text(-1, -1, f\"Time spent: {self.time_spent/11}\\nEnergy spent: {self.energy_spent}\\nInfected Nodes:{infected_nodes}\\n\", fontsize=10)\n",
        "\n",
        "        # Show the plot\n",
        "        # plt.savefig(f'/content/drive/MyDrive/Colab_Notebooks/Images_Net2/Second{temp}.png')\n",
        "        # plt.show()\n"
      ]
    },
    {
      "cell_type": "code",
      "execution_count": null,
      "metadata": {
        "colab": {
          "base_uri": "https://localhost:8080/",
          "height": 666
        },
        "id": "UDlYkm86-4ib",
        "outputId": "e85a725a-6dc7-4ae3-a6b9-007131a92331"
      },
      "outputs": [
        {
          "output_type": "stream",
          "name": "stdout",
          "text": [
            "Time spent: (82.0)\n",
            "Energy spent: 921\n",
            "Time spent: (75.0)\n",
            "Energy spent: 733\n",
            "Time spent: (62.0)\n",
            "Energy spent: 710\n",
            "Time spent: (44.0)\n",
            "Energy spent: 444\n",
            "Time spent: (49.0)\n",
            "Energy spent: 494\n",
            "Time spent: (77.0)\n",
            "Energy spent: 907\n",
            "Time spent: (43.0)\n",
            "Energy spent: 519\n",
            "Time spent: (67.0)\n",
            "Energy spent: 872\n",
            "Time spent: (51.0)\n",
            "Energy spent: 624\n",
            "Time spent: (34.0)\n",
            "Energy spent: 280\n"
          ]
        },
        {
          "output_type": "display_data",
          "data": {
            "text/plain": [
              "<Figure size 432x288 with 1 Axes>"
            ],
            "image/png": "[encoded data removed]"
          },
          "metadata": {}
        }
      ],
      "source": [
        "res_time2 = [0]*10\n",
        "res_en2 =[0]*10\n",
        "for i in range(10):\n",
        "  # Create a random graph with 10 nodes and 20 edges\n",
        "  graph = nx.connected_caveman_graph(5, 5)\n",
        "\n",
        "  # Create a EpidemicRouting object\n",
        "  epidemic_routing = EpidemicRouting(graph)\n",
        "\n",
        "  # Simulate the epidemic routing protocol starting from node 0\n",
        "  epidemic_results = epidemic_routing.simulate(0)\n",
        "\n",
        "  # Print the time and energy spent\n",
        "  print(f\"Time spent: ({epidemic_results['time_spent']/11})\")\n",
        "  print(f\"Energy spent: {epidemic_results['energy_spent']}\")\n",
        "  res_time2[i]={epidemic_results['time_spent']/11}\n",
        "  res_en2[i]={epidemic_results['energy_spent']}\n"
      ]
    },
    {
      "cell_type": "code",
      "execution_count": null,
      "metadata": {
        "id": "mfl3Fhgl--TK"
      },
      "outputs": [],
      "source": [
        "import random\n",
        "import networkx as nx\n",
        "import matplotlib.pyplot as plt\n",
        "\n",
        "\n",
        "class SprayAndWait:\n",
        "    def __init__(self, graph, max_copies):\n",
        "        self.graph = graph\n",
        "        self.max_copies = max_copies\n",
        "        self.time_spent = 0\n",
        "        self.energy_spent = 0\n",
        "\n",
        "    def simulate(self, start_node):\n",
        "        self.time_spent = 0\n",
        "        self.energy_spent = 0\n",
        "\n",
        "        # Initialize all nodes as uninfected\n",
        "        infected_nodes = set()\n",
        "        for node in self.graph.nodes():\n",
        "            self.graph.nodes[node]['infected'] = False\n",
        "            self.graph.nodes[node]['copies'] = set()\n",
        "\n",
        "        # Select the start node to be infected\n",
        "        infected_nodes.add(start_node)\n",
        "        self.graph.nodes[start_node]['infected'] = True\n",
        "        self.graph.nodes[start_node]['copies'].add(0)\n",
        "\n",
        "        # Iterate until all nodes are infected\n",
        "        while len(infected_nodes) < len(self.graph):\n",
        "            # Select a random infected node\n",
        "            sender = random.choice(list(infected_nodes))\n",
        "\n",
        "            # Select a random neighbor to forward the rumor to\n",
        "            neighbor = random.choice(list(self.graph.neighbors(sender)))\n",
        "\n",
        "            # If the neighbor is uninfected, infect it and add it to the set of infected nodes\n",
        "            if not self.graph.nodes[neighbor]['infected']:\n",
        "                self.graph.nodes[neighbor]['infected'] = True\n",
        "                infected_nodes.add(neighbor)\n",
        "                self.graph.nodes[neighbor]['copies'].add(0)\n",
        "                # self.energy_spent += 1\n",
        "\n",
        "            # If the neighbor has less than the maximum number of copies, create a copy of the message and forward it\n",
        "            elif len(self.graph.nodes[neighbor]['copies']) < self.max_copies:\n",
        "                copies = self.graph.nodes[neighbor]['copies']\n",
        "                copy_id = max(copies) + 1 if copies else 0\n",
        "                self.graph.nodes[neighbor]['copies'].add(copy_id)\n",
        "\n",
        "\n",
        "            # Increment the time spent\n",
        "            self.time_spent += 1\n",
        "            self.energy_spent += neighbor\n",
        "            # Plot the current state of the graph\n",
        "            self.plot_step(sender, neighbor,self.time_spent)\n",
        "\n",
        "        # Return the time and energy spent\n",
        "        return {'time_spent': self.time_spent, 'energy_spent': self.energy_spent}\n",
        "\n",
        "    def plot_step(self, sender, receiver, temp):\n",
        "        # Draw the graph\n",
        "        pos = nx.spring_layout(self.graph, seed=42)\n",
        "        nx.draw(self.graph, pos, with_labels=True)\n",
        "\n",
        "        # Label the infected nodes in red\n",
        "        infected_nodes = [node for node, attr in self.graph.nodes(data='infected') if attr == True]\n",
        "        nx.draw_networkx_nodes(self.graph, pos, nodelist=infected_nodes, node_color='r')\n",
        "\n",
        "        # Label the sender and receiver nodes in green and yellow, respectively\n",
        "        nx.draw_networkx_nodes(self.graph, pos, nodelist=[sender], node_color='g')\n",
        "        nx.draw_networkx_nodes(self.graph, pos, nodelist=[receiver], node_color='y')\n",
        "\n",
        "        # Add a label for the time spent and energy spent\n",
        "        plt.rcParams['figure.figsize'] = [15,15 ]\n",
        "        plt.text(-1, -1, f\"Time spent: {self.time_spent}\\nEnergy spent: {self.energy_spent}\\nInfected Nodes:{infected_nodes}\\n\", fontsize=10)\n",
        "        # plt.savefig(f'/content/drive/MyDrive/Colab_Notebooks/Images_Net3/Third{temp}.png')\n",
        "        # # Show the plot\n",
        "        # plt.show()\n"
      ]
    },
    {
      "cell_type": "code",
      "execution_count": null,
      "metadata": {
        "colab": {
          "base_uri": "https://localhost:8080/",
          "height": 1000
        },
        "id": "PbuUUxRtKMN7",
        "outputId": "d4c55bff-016e-46f7-fc34-e1b3ec8d7005"
      },
      "outputs": [
        {
          "output_type": "stream",
          "name": "stdout",
          "text": [
            "Time spent: (126)\n",
            "Energy spent: 1359\n",
            "Time spent: (204)\n",
            "Energy spent: 2107\n",
            "Time spent: (96)\n",
            "Energy spent: 884\n",
            "Time spent: (196)\n",
            "Energy spent: 1696\n",
            "Time spent: (191)\n",
            "Energy spent: 1653\n",
            "Time spent: (257)\n",
            "Energy spent: 3541\n",
            "Time spent: (168)\n",
            "Energy spent: 2056\n",
            "Time spent: (208)\n",
            "Energy spent: 3079\n",
            "Time spent: (105)\n",
            "Energy spent: 997\n",
            "Time spent: (246)\n",
            "Energy spent: 2621\n"
          ]
        },
        {
          "output_type": "display_data",
          "data": {
            "text/plain": [
              "<Figure size 1080x1080 with 1 Axes>"
            ],
            "image/png": "[encoded data removed]"
          },
          "metadata": {}
        }
      ],
      "source": [
        "res_time3 = [0]*10\n",
        "res_en3= [0]*10\n",
        "for i in range(10):\n",
        "  # Create a random graph with 10 nodes and 20 edges\n",
        "  # graph = nx.gnm_random_graph(15, 105, seed=42)\n",
        "  graph = nx.connected_caveman_graph(5, 5)\n",
        "\n",
        "  # Create a EpidemicRouting object\n",
        "  spray_routing = SprayAndWait(graph,8)\n",
        "\n",
        "  # Simulate the epidemic routing protocol starting from node 0\n",
        "  spray_results = spray_routing.simulate(0)\n",
        "\n",
        "  # Print the time and energy spent\n",
        "  print(f\"Time spent: ({spray_results['time_spent']})\")\n",
        "  print(f\"Energy spent: {spray_results['energy_spent']}\")\n",
        "  res_time3[i]={spray_results['time_spent']}\n",
        "  res_en3[i]={spray_results['energy_spent']}"
      ]
    },
    {
      "cell_type": "code",
      "execution_count": null,
      "metadata": {
        "id": "2tMo3Fo_59_p"
      },
      "outputs": [],
      "source": [
        "res_time1=[55, 50, 77, 32, 52, 39, 31, 42, 63, 51]\n"
      ]
    },
    {
      "cell_type": "code",
      "execution_count": null,
      "metadata": {
        "id": "4Xa3M53w6EIB"
      },
      "outputs": [],
      "source": [
        "res_time2=[7, 5, 4, 4, 3, 4, 5, 5, 6, 6]\n"
      ]
    },
    {
      "cell_type": "code",
      "execution_count": null,
      "metadata": {
        "id": "zSGJ39zB6D3h"
      },
      "outputs": [],
      "source": [
        "res_time3=[49, 44, 34, 36, 35, 59, 51, 34, 43, 58]\n"
      ]
    },
    {
      "cell_type": "code",
      "execution_count": null,
      "metadata": {
        "id": "VQPZKnwA6Dpa"
      },
      "outputs": [],
      "source": [
        "res_en1=[55, 50, 77, 32, 52, 39, 31, 42, 63, 51]\n"
      ]
    },
    {
      "cell_type": "code",
      "execution_count": null,
      "metadata": {
        "id": "xgCjT_y36DHd"
      },
      "outputs": [],
      "source": [
        "res_en2=[54, 40, 45, 27, 38, 31, 47, 27, 50, 40]\n"
      ]
    },
    {
      "cell_type": "code",
      "execution_count": null,
      "metadata": {
        "id": "ufqV8Txj6C0u"
      },
      "outputs": [],
      "source": [
        "res_en3=[341, 342, 234, 243, 240, 364, 373, 208, 292, 396]\n"
      ]
    },
    {
      "cell_type": "code",
      "execution_count": null,
      "metadata": {
        "colab": {
          "base_uri": "https://localhost:8080/",
          "height": 659
        },
        "id": "Epucd8jugUeC",
        "outputId": "20c8fe34-8965-4c2e-f184-ad9736939bef"
      },
      "outputs": [
        {
          "name": "stderr",
          "output_type": "stream",
          "text": [
            "<ipython-input-33-180062e79fa2>:7: UserWarning: FixedFormatter should only be used together with FixedLocator\n",
            "  ax.set_xticklabels(x_label_list)\n"
          ]
        },
        {
          "data": {
            "text/plain": [
              "<ErrorbarContainer object of 3 artists>"
            ]
          },
          "execution_count": 33,
          "metadata": {},
          "output_type": "execute_result"
        },
        {
          "data": {
            "image/png": "[encoded data removed]",
            "text/plain": [
              "<Figure size 720x720 with 1 Axes>"
            ]
          },
          "metadata": {},
          "output_type": "display_data"
        }
      ],
      "source": [
        "import matplotlib.pyplot as plt\n",
        "import numpy as np\n",
        "plt.rcParams['figure.figsize'] = [10,10]\n",
        "plt.title(\"Time Consumption (Nodes:15 , Edge:105 )\")\n",
        "x_label_list = [\" \",\" \",\"Rumor Routing\",\" \", \"Epidemic Routing\",\" \", \"Spray and Wait\"]\n",
        "ax = plt.gca()\n",
        "ax.set_xticklabels(x_label_list)\n",
        "plt.xlim([-1, 3.1])\n",
        "plt.ylim([0, 150])\n",
        "plt.text(+0.05, np.mean(res_time1)-1,np.mean(res_time1), fontsize=10)\n",
        "plt.text(+0.05, np.min(res_time1)-1,np.min(res_time1), fontsize=10)\n",
        "plt.text(+0.05, np.max(res_time1)-1,np.max(res_time1), fontsize=10)\n",
        "xxx=np.mean(res_time1)-np.min(res_time1)\n",
        "yyy=np.max(res_time1)-np.mean(res_time1)\n",
        "err=[[xxx],[yyy]]\n",
        "plt.errorbar(0, np.mean(res_time1), yerr=err, fmt=\"o\")\n",
        "\n",
        "plt.xlim([-1, 3.1])\n",
        "plt.ylim([0, 150])\n",
        "plt.text(1+0.05, np.mean(res_time2)-1,np.mean(res_time2), fontsize=10)\n",
        "plt.text(1+0.05, np.min(res_time2)-2,np.min(res_time2), fontsize=10)\n",
        "plt.text(1+0.05, np.max(res_time2)+1,np.max(res_time2), fontsize=10)\n",
        "xxx=np.mean(res_time2)-np.min(res_time2)\n",
        "yyy=np.max(res_time2)-np.mean(res_time2)\n",
        "err=[[xxx],[yyy]]\n",
        "plt.errorbar(1, np.mean(res_time2), yerr=err, fmt=\"o\")\n",
        "\n",
        "plt.xlim([-1, 3.1])\n",
        "plt.ylim([0, 150])\n",
        "plt.text(2+0.05, np.mean(res_time3)-1,np.mean(res_time3), fontsize=10)\n",
        "plt.text(2+0.05, np.min(res_time3)-1,np.min(res_time3), fontsize=10)\n",
        "plt.text(2+0.05, np.max(res_time3)-1,np.max(res_time3), fontsize=10)\n",
        "xxx=np.mean(res_time3)-np.min(res_time3)\n",
        "yyy=np.max(res_time3)-np.mean(res_time3)\n",
        "err=[[xxx],[yyy]]\n",
        "plt.errorbar(2, np.mean(res_time3), yerr=err, fmt=\"o\")\n"
      ]
    },
    {
      "cell_type": "code",
      "execution_count": null,
      "metadata": {
        "colab": {
          "base_uri": "https://localhost:8080/",
          "height": 659
        },
        "id": "nCdfS-qrokT_",
        "outputId": "127cf81b-6d6d-4164-9af1-6fb686c50e31"
      },
      "outputs": [
        {
          "name": "stderr",
          "output_type": "stream",
          "text": [
            "<ipython-input-32-68d0a2bbce4d>:7: UserWarning: FixedFormatter should only be used together with FixedLocator\n",
            "  ax.set_xticklabels(x_label_list)\n"
          ]
        },
        {
          "data": {
            "text/plain": [
              "<ErrorbarContainer object of 3 artists>"
            ]
          },
          "execution_count": 32,
          "metadata": {},
          "output_type": "execute_result"
        },
        {
          "data": {
            "image/png": "[encoded data removed]",
            "text/plain": [
              "<Figure size 720x720 with 1 Axes>"
            ]
          },
          "metadata": {},
          "output_type": "display_data"
        }
      ],
      "source": [
        "import matplotlib.pyplot as plt\n",
        "import numpy as np\n",
        "plt.rcParams['figure.figsize'] = [10,10]\n",
        "plt.title(\"Energy Consumption (Nodes:15 , Edge:105 )\")\n",
        "x_label_list = [\" \",\" \",\"Rumor Routing\",\" \", \"Epidemic Routing\",\" \", \"Spray and Wait\"]\n",
        "ax = plt.gca()\n",
        "ax.set_xticklabels(x_label_list)\n",
        "plt.xlim([-1, 3.1])\n",
        "plt.ylim([0, 1000])\n",
        "plt.text(+0.05, np.mean(res_en1)-1,np.mean(res_en1), fontsize=10)\n",
        "plt.text(+0.05, np.min(res_en1)-1,np.min(res_en1), fontsize=10)\n",
        "plt.text(+0.05, np.max(res_en1)-1,np.max(res_en1), fontsize=10)\n",
        "xxx=np.mean(res_en1)-np.min(res_en1)\n",
        "yyy=np.max(res_en1)-np.mean(res_en1)\n",
        "err=[[xxx],[yyy]]\n",
        "plt.errorbar(0, np.mean(res_en1), yerr=err, fmt=\"o\")\n",
        "\n",
        "plt.xlim([-1, 3.1])\n",
        "plt.ylim([0, 1000])\n",
        "plt.text(1+0.05, np.mean(res_en2)-1,np.mean(res_en2), fontsize=10)\n",
        "plt.text(1+0.05, np.min(res_en2)-7,np.min(res_en2), fontsize=10)\n",
        "plt.text(1+0.05, np.max(res_en2)+2,np.max(res_en2), fontsize=10)\n",
        "xxx=np.mean(res_en2)-np.min(res_en2)\n",
        "yyy=np.max(res_en2)-np.mean(res_en2)\n",
        "err=[[xxx],[yyy]]\n",
        "plt.errorbar(1, np.mean(res_en2), yerr=err, fmt=\"o\")\n",
        "\n",
        "plt.xlim([-1, 3.1])\n",
        "plt.ylim([0, 1000])\n",
        "plt.text(2+0.05, np.mean(res_en3)-1,np.mean(res_en3), fontsize=10)\n",
        "plt.text(2+0.05, np.min(res_en3)-1,np.min(res_en3), fontsize=10)\n",
        "plt.text(2+0.05, np.max(res_en3)-1,np.max(res_en3), fontsize=10)\n",
        "xxx=np.mean(res_en3)-np.min(res_en3)\n",
        "yyy=np.max(res_en3)-np.mean(res_en3)\n",
        "err=[[xxx],[yyy]]\n",
        "plt.errorbar(2, np.mean(res_en3), yerr=err, fmt=\"o\")\n"
      ]
    },
    {
      "cell_type": "code",
      "execution_count": null,
      "metadata": {
        "colab": {
          "base_uri": "https://localhost:8080/"
        },
        "id": "HfBkRXPuo_9f",
        "outputId": "854239d7-2010-489e-89c0-281aad4005e8"
      },
      "outputs": [
        {
          "data": {
            "text/plain": [
              "48"
            ]
          },
          "execution_count": 144,
          "metadata": {},
          "output_type": "execute_result"
        }
      ],
      "source": [
        "np.min(res_time1)"
      ]
    },
    {
      "cell_type": "code",
      "execution_count": null,
      "metadata": {
        "colab": {
          "base_uri": "https://localhost:8080/"
        },
        "id": "B1bBGpb_pdB6",
        "outputId": "779765a8-6054-4a07-9908-730657cb0687"
      },
      "outputs": [
        {
          "data": {
            "text/plain": [
              "82"
            ]
          },
          "execution_count": 146,
          "metadata": {},
          "output_type": "execute_result"
        }
      ],
      "source": [
        "np.max(res_time1)"
      ]
    },
    {
      "cell_type": "code",
      "execution_count": null,
      "metadata": {
        "id": "Jvog5inMqICu"
      },
      "outputs": [],
      "source": []
    }
  ],
  "metadata": {
    "colab": {
      "provenance": []
    },
    "kernelspec": {
      "display_name": "Python 3",
      "name": "python3"
    },
    "language_info": {
      "name": "python"
    }
  },
  "nbformat": 4,
  "nbformat_minor": 0
}